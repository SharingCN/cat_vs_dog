{
 "cells": [
  {
   "cell_type": "markdown",
   "metadata": {},
   "source": [
    "## 采用预处理模型剔除异常数据"
   ]
  },
  {
   "cell_type": "code",
   "execution_count": null,
   "metadata": {
    "collapsed": false
   },
   "outputs": [],
   "source": [
    "import csv\n",
    "import matplotlib.pyplot as plt\n",
    "\n",
    "%matplotlib inline  \n",
    "\n",
    "plt.style.use('seaborn-white')\n",
    "\n",
    "img_size = (299, 299)\n",
    "\n",
    "def get_imageNet_class(file_path):\n",
    "    category_class = []\n",
    "    with open(file_path, 'r') as f:\n",
    "        reader = csv.reader(f)\n",
    "        for line in reader:\n",
    "            if line[1] == '狗' or line[1] == '猫':\n",
    "                category_class.append(line[0])\n",
    "    return category_class\n",
    "\n",
    "imageNet_class = get_imageNet_class('ImageNetClasses.csv')"
   ]
  },
  {
   "cell_type": "code",
   "execution_count": null,
   "metadata": {
    "collapsed": true
   },
   "outputs": [],
   "source": [
    "import os\n",
    "\n",
    "os.chdir(\"{}/image\".format(os.getcwd()))"
   ]
  },
  {
   "cell_type": "code",
   "execution_count": null,
   "metadata": {
    "collapsed": false
   },
   "outputs": [],
   "source": [
    "from keras.applications.inception_v3 import InceptionV3\n",
    "from keras.preprocessing import image\n",
    "from keras.applications.inception_v3 import preprocess_input\n",
    "from keras.applications.inception_v3 import decode_predictions\n",
    "import numpy as np\n",
    "import random\n",
    "from math import ceil\n",
    "\n",
    "def get_outlier_predictions(train_path, model, img_size, top=10):\n",
    "    outlier_predictions = []\n",
    "    targetnames = os.listdir(train_path)\n",
    "    for name in targetnames[:]:\n",
    "        img = image.load_img(train_path + name, target_size=img_size)\n",
    "        x = image.img_to_array(img)\n",
    "        x = np.expand_dims(x, axis=0)\n",
    "        x = preprocess_input(x)\n",
    "\n",
    "        preds = model.predict(x)\n",
    "        predictions = decode_predictions(preds, top=top)[0]\n",
    "        if predictions not in imageNet_class:\n",
    "            outlier_predictions.append(name)\n",
    "            \n",
    "    return outlier_predictions\n",
    "\n",
    "def plt_outlier_img(outlier_list):\n",
    "    plt.figure(figsize=(12, 20))\n",
    "    for i in range(0, len(outlier_list)):\n",
    "        plt.subplot(ceil(len(outlier_list) / 4), 4, i+1)\n",
    "        img = image.load_img('train/'+ outlier_list[i])\n",
    "        x = image.img_to_array(img)\n",
    "        plt.title(outlier_list[i])\n",
    "        #plt.axis('off')\n",
    "        plt.tight_layout()\n",
    "        plt.imshow(img)\n",
    "        #shutil.move('train/' + outlier_list[i], 'outlier/' + outlier_list[i])\n",
    "    "
   ]
  },
  {
   "cell_type": "code",
   "execution_count": null,
   "metadata": {
    "collapsed": false,
    "scrolled": false
   },
   "outputs": [],
   "source": [
    "model = InceptionV3(weights='imagenet')"
   ]
  },
  {
   "cell_type": "code",
   "execution_count": null,
   "metadata": {
    "collapsed": false
   },
   "outputs": [],
   "source": [
    "outlier_list = get_outlier_predictions('train/', model, img_size, 10)\n",
    "\n",
    "print(outlier_list)"
   ]
  },
  {
   "cell_type": "code",
   "execution_count": null,
   "metadata": {
    "collapsed": true
   },
   "outputs": [],
   "source": [
    "model = ResNet50(weights='imagenet')\n",
    "\n",
    "outlier_list = get_outlier_predictions('train/', img_size, 10)\n",
    "\n",
    "print(outlier_list)\n",
    "\n",
    "plt_outlier_img(outlier_list)"
   ]
  },
  {
   "cell_type": "code",
   "execution_count": null,
   "metadata": {
    "collapsed": false
   },
   "outputs": [],
   "source": [
    "a = [1, 2, 3]\n",
    "\n",
    "if 3 not in a:\n",
    "    print(\"yes\")\n",
    "else:\n",
    "    print(\"no\")"
   ]
  },
  {
   "cell_type": "code",
   "execution_count": null,
   "metadata": {
    "collapsed": true
   },
   "outputs": [],
   "source": []
  },
  {
   "cell_type": "code",
   "execution_count": null,
   "metadata": {
    "collapsed": false
   },
   "outputs": [],
   "source": [
    "from keras.applications.resnet50 import ResNet50\n",
    "from keras.preprocessing import image\n",
    "from keras.applications.resnet50 import preprocess_input, decode_predictions\n",
    "import numpy as np\n",
    "\n",
    "model = ResNet50(weights='imagenet')\n",
    "\n",
    "img_path = 'train/cat.3811.jpg'\n",
    "img = image.load_img(img_path, target_size=(224, 224))\n",
    "x = image.img_to_array(img)\n",
    "x = np.expand_dims(x, axis=0)\n",
    "x = preprocess_input(x)\n",
    "\n",
    "preds = model.predict(x)\n",
    "# decode the results into a list of tuples (class, description, probability)\n",
    "# (one such list for each sample in the batch)\n",
    "print('Predicted:', decode_predictions(preds, top=3)[0])"
   ]
  },
  {
   "cell_type": "code",
   "execution_count": null,
   "metadata": {
    "collapsed": true
   },
   "outputs": [],
   "source": []
  }
 ],
 "metadata": {
  "kernelspec": {
   "display_name": "Python 3",
   "language": "python",
   "name": "python3"
  },
  "language_info": {
   "codemirror_mode": {
    "name": "ipython",
    "version": 3
   },
   "file_extension": ".py",
   "mimetype": "text/x-python",
   "name": "python",
   "nbconvert_exporter": "python",
   "pygments_lexer": "ipython3",
   "version": "3.5.4"
  }
 },
 "nbformat": 4,
 "nbformat_minor": 1
}
