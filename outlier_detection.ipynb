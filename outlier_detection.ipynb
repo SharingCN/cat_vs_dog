{
 "cells": [
  {
   "cell_type": "markdown",
   "metadata": {},
   "source": [
    "## 采用预处理模型剔除异常数据"
   ]
  },
  {
   "cell_type": "code",
   "execution_count": 1,
   "metadata": {
    "collapsed": false
   },
   "outputs": [],
   "source": [
    "import csv\n",
    "import matplotlib.pyplot as plt\n",
    "\n",
    "%matplotlib inline  \n",
    "\n",
    "plt.style.use('seaborn-white')\n",
    "\n",
    "img_size = (299, 299)\n",
    "\n",
    "def get_imageNet_class(file_path):\n",
    "    category_class = []\n",
    "    with open(file_path, 'r') as f:\n",
    "        reader = csv.reader(f)\n",
    "        for line in reader:\n",
    "            if line[1] == '狗' or line[1] == '猫':\n",
    "                category_class.append(line[0])\n",
    "    return category_class\n",
    "\n",
    "imageNet_class = get_imageNet_class('ImageNetClasses.csv')"
   ]
  },
  {
   "cell_type": "code",
   "execution_count": 2,
   "metadata": {
    "collapsed": true
   },
   "outputs": [],
   "source": [
    "import os\n",
    "\n",
    "os.chdir(\"{}/image\".format(os.getcwd()))"
   ]
  },
  {
   "cell_type": "code",
   "execution_count": 8,
   "metadata": {
    "collapsed": false
   },
   "outputs": [],
   "source": [
    "from keras.applications.inception_v3 import InceptionV3\n",
    "from keras.preprocessing import image\n",
    "from keras.applications.inception_v3 import preprocess_input\n",
    "from keras.applications.inception_v3 import decode_predictions\n",
    "import numpy as np\n",
    "import random\n",
    "from math import ceil\n",
    "\n",
    "def get_outlier_predictions(train_path, model, img_size, top=10):\n",
    "    outlier_predictions = {}\n",
    "    targetnames = os.listdir(train_path)\n",
    "    for name in targetnames[:]:\n",
    "        img = image.load_img(train_path + name, target_size=img_size)\n",
    "        x = image.img_to_array(img)\n",
    "        x = np.expand_dims(x, axis=0)\n",
    "        x = preprocess_input(x)\n",
    "\n",
    "        preds = model.predict(x)\n",
    "        predictions = decode_predictions(preds, top=top)[0]\n",
    "        #if predictions not in imageNet_class:\n",
    "        #    outlier_predictions.append(name)\n",
    "        outlier_predictions[name] = predictions\n",
    "            \n",
    "    return outlier_predictions    "
   ]
  },
  {
   "cell_type": "code",
   "execution_count": 4,
   "metadata": {
    "collapsed": false,
    "scrolled": false
   },
   "outputs": [
    {
     "name": "stdout",
     "output_type": "stream",
     "text": [
      "A local file was found, but it seems to be incomplete or outdated.\n",
      "Downloading data from https://github.com/fchollet/deep-learning-models/releases/download/v0.2/inception_v3_weights_tf_dim_ordering_tf_kernels.h5\n"
     ]
    }
   ],
   "source": [
    "model = InceptionV3(weights='imagenet')"
   ]
  },
  {
   "cell_type": "code",
   "execution_count": 9,
   "metadata": {
    "collapsed": false
   },
   "outputs": [
    {
     "name": "stdout",
     "output_type": "stream",
     "text": [
      "{'dog.10.jpg': [('n02089867', 'Walker_hound', 0.31597313), ('n02088238', 'basset', 0.12977606), ('n02088632', 'bluetick', 0.12685494), ('n02107574', 'Greater_Swiss_Mountain_dog', 0.10331032), ('n02088364', 'beagle', 0.026519738), ('n02108000', 'EntleBucher', 0.026343489), ('n02109525', 'Saint_Bernard', 0.021485515), ('n02089973', 'English_foxhound', 0.020383401), ('n02107908', 'Appenzeller', 0.013605027), ('n02109047', 'Great_Dane', 0.0058515379)], 'cat.1.jpg': [('n02123045', 'tabby', 0.68273389), ('n02123159', 'tiger_cat', 0.15722224), ('n02124075', 'Egyptian_cat', 0.13042139), ('n02127052', 'lynx', 0.0055947555), ('n02123394', 'Persian_cat', 0.0010668333), ('n03958227', 'plastic_bag', 0.00086234766), ('n02971356', 'carton', 0.00055909768), ('n02123597', 'Siamese_cat', 0.00050864101), ('n02129604', 'tiger', 0.00048516353), ('n03223299', 'doormat', 0.00036668757)]}\n"
     ]
    }
   ],
   "source": [
    "outlier_list = get_outlier_predictions('outlier_test/', model, img_size, 10)\n",
    "\n",
    "print(outlier_list)"
   ]
  },
  {
   "cell_type": "code",
   "execution_count": null,
   "metadata": {
    "collapsed": true
   },
   "outputs": [],
   "source": [
    "def plt_outlier_img(outlier_list):\n",
    "    plt.figure(figsize=(12, 20))\n",
    "    for i in range(0, len(outlier_list)):\n",
    "        plt.subplot(ceil(len(outlier_list) / 4), 4, i+1)\n",
    "        img = image.load_img('train/'+ outlier_list[i])\n",
    "        x = image.img_to_array(img)\n",
    "        plt.title(outlier_list[i])\n",
    "        #plt.axis('off')\n",
    "        plt.tight_layout()\n",
    "        plt.imshow(img)\n",
    "        #shutil.move('train/' + outlier_list[i], 'outlier/' + outlier_list[i])"
   ]
  },
  {
   "cell_type": "code",
   "execution_count": 6,
   "metadata": {
    "collapsed": false
   },
   "outputs": [
    {
     "data": {
      "text/plain": [
       "25000"
      ]
     },
     "execution_count": 6,
     "metadata": {},
     "output_type": "execute_result"
    }
   ],
   "source": [
    "plt_outlier_img(outlier_list)"
   ]
  },
  {
   "cell_type": "code",
   "execution_count": null,
   "metadata": {
    "collapsed": true
   },
   "outputs": [],
   "source": []
  },
  {
   "cell_type": "code",
   "execution_count": null,
   "metadata": {
    "collapsed": true
   },
   "outputs": [],
   "source": []
  },
  {
   "cell_type": "code",
   "execution_count": null,
   "metadata": {
    "collapsed": true
   },
   "outputs": [],
   "source": []
  },
  {
   "cell_type": "code",
   "execution_count": 10,
   "metadata": {
    "collapsed": true
   },
   "outputs": [],
   "source": [
    "test_dict = {'dog.10.jpg': [('n02089867', 'Walker_hound', 0.31597313), ('n02088238', 'basset', 0.12977606), ('n02088632', 'bluetick', 0.12685494), ('n02107574', 'Greater_Swiss_Mountain_dog', 0.10331032), ('n02088364', 'beagle', 0.026519738), ('n02108000', 'EntleBucher', 0.026343489), ('n02109525', 'Saint_Bernard', 0.021485515), ('n02089973', 'English_foxhound', 0.020383401), ('n02107908', 'Appenzeller', 0.013605027), ('n02109047', 'Great_Dane', 0.0058515379)], 'cat.1.jpg': [('n02123045', 'tabby', 0.68273389), ('n02123159', 'tiger_cat', 0.15722224), ('n02124075', 'Egyptian_cat', 0.13042139), ('n02127052', 'lynx', 0.0055947555), ('n02123394', 'Persian_cat', 0.0010668333), ('n03958227', 'plastic_bag', 0.00086234766), ('n02971356', 'carton', 0.00055909768), ('n02123597', 'Siamese_cat', 0.00050864101), ('n02129604', 'tiger', 0.00048516353), ('n03223299', 'doormat', 0.00036668757)]}"
   ]
  },
  {
   "cell_type": "code",
   "execution_count": null,
   "metadata": {
    "collapsed": true
   },
   "outputs": [],
   "source": [
    "tes"
   ]
  }
 ],
 "metadata": {
  "kernelspec": {
   "display_name": "Python 3",
   "language": "python",
   "name": "python3"
  },
  "language_info": {
   "codemirror_mode": {
    "name": "ipython",
    "version": 3
   },
   "file_extension": ".py",
   "mimetype": "text/x-python",
   "name": "python",
   "nbconvert_exporter": "python",
   "pygments_lexer": "ipython3",
   "version": "3.5.4"
  }
 },
 "nbformat": 4,
 "nbformat_minor": 1
}
