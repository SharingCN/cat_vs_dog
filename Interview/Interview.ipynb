{
 "cells": [
  {
   "cell_type": "markdown",
   "metadata": {},
   "source": [
    "## 1. 方差与偏差\n",
    "\n",
    "- 偏差：Bias反映的是模型在样本上的输出与真实值之间的误差，即模型本身的精准度，即算法本身的拟合能力\n",
    "- 方差：Variance反映的是模型每一次输出结果与模型输出期望之间的误差，即模型的稳定性。反应预测的波动情况。\n",
    "- 误差：$Error = Bias^2 + Variance + Noise$  也叫泛化误差\n",
    "\n",
    "### 导致偏差和方差的原因\n",
    "\n",
    "- 偏差：通常是由于我们对学习算法做了错误的假设，或者模型的复杂度不够；\n",
    "    - 比如真实模型是一个二次函数，而我们假设模型为一次函数，这就会导致偏差的增大（欠拟合 -- 高偏差）；\n",
    "    - 由偏差引起的误差通常在训练误差上就能体现，或者说训练误差主要是由偏差造成的\n",
    "\n",
    "- 方差：通常是由于模型的复杂度相对于训练集过高导致的；\n",
    "    - 比如真实模型是一个简单的二次函数，而我们假设模型是一个高次函数，这就会导致方差的增大（过拟合 -- 高方差）；\n",
    "    - 由方差引起的误差通常体现在测试误差相对训练误差的增量上。\n",
    "\n",
    "### Bias，Variance和Overfitting(过拟合)，Underfitting(欠拟合)\n",
    "\n",
    "- 过拟合会出现高方差问题\n",
    "- 欠拟合会出现高偏差问题\n",
    "\n",
    "### 避免过拟合和欠拟合\n",
    "\n",
    "避免欠拟合（刻画不够）\n",
    "\n",
    "- 寻找更好的特征-----具有代表性的\n",
    "- 用更多的特征-----增大输入向量的维度\n",
    "\n",
    "避免过拟合（刻画太细，泛化太差）\n",
    "\n",
    "- 增大数据集合-----使用更多的数据，噪声点比重减少\n",
    "- 减少数据特征-----减小数据维度，高维空间密度小\n",
    "- 正则化方法-----即在对模型的目标函数（objective function）或代价函数（cost function）加上正则项\n",
    "- 交叉验证方法\n",
    "\n",
    "### Bias、Variance和K-fold的关系\n",
    "\n",
    "下面解释一下Bias、Variance和k-fold的关系：\n",
    "\n",
    "> k-fold 交叉验证常用来确定不同类型的模型（线性、指数等）哪一种更好，为了减少数据划分对模型评价的影响，最终选出来的模型类型（线性、指数等）是 k 次建模的误差平均值最小的模型。\n",
    "\n",
    "> 当 k 较大时，经过更多次数的平均可以学习得到更符合真实数据分布的模型，Bias 就小了，但是这样一来模型就更加拟合训练数据集，再去测试集上预测的时候预测误差的期望值就变大了，从而 Variance 就大了；\n",
    "\n",
    "> 反之，k 较小时模型不会过度拟合训练数据，从而 Bias 较大，但是正因为没有过度拟合训练数据，Variance 也较小。\n",
    "\n",
    "### 深度学习中的偏差与方差\n",
    "\n",
    "- 神经网络的拟合能力非常强，因此它的训练误差（偏差）通常较小；\n",
    "- 但是过强的拟合能力会导致较大的方差，使模型的测试误差（泛化误差）增大；\n",
    "- 因此深度学习的核心工作之一就是研究如何降低模型的泛化误差，这类方法统称为正则化方法。\n",
    "\n",
    "### 偏差与方差的计算公式\n",
    "\n",
    "- 偏差：\n",
    "> $bias^2(x) = (f(x) - y)$"
   ]
  },
  {
   "cell_type": "code",
   "execution_count": null,
   "metadata": {
    "collapsed": true
   },
   "outputs": [],
   "source": []
  },
  {
   "cell_type": "markdown",
   "metadata": {},
   "source": [
    "## Reference\n",
    "\n",
    "- [总结：Bias(偏差)，Error(误差)，Variance(方差)及CV(交叉验证)](https://www.jianshu.com/p/8d01ac406b40)\n",
    "\n",
    "- [深度学习中的常见正则化问题](https://blog.csdn.net/liudianzhi8880/article/details/78226603)\n",
    "\n",
    "- []()\n",
    "\n",
    "- []()\n",
    "\n",
    "- []()\n",
    "\n",
    "- []()\n",
    "\n",
    "- []()\n",
    "\n",
    "- []()\n",
    "\n",
    "- []()\n",
    "\n",
    "- []()\n",
    "\n",
    "- []()\n",
    "\n",
    "- []()"
   ]
  },
  {
   "cell_type": "code",
   "execution_count": null,
   "metadata": {
    "collapsed": true
   },
   "outputs": [],
   "source": []
  }
 ],
 "metadata": {
  "kernelspec": {
   "display_name": "Python 3",
   "language": "python",
   "name": "python3"
  },
  "language_info": {
   "codemirror_mode": {
    "name": "ipython",
    "version": 3
   },
   "file_extension": ".py",
   "mimetype": "text/x-python",
   "name": "python",
   "nbconvert_exporter": "python",
   "pygments_lexer": "ipython3",
   "version": "3.5.4"
  }
 },
 "nbformat": 4,
 "nbformat_minor": 1
}
