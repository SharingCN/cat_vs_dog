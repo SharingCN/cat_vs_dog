{
 "cells": [
  {
   "cell_type": "code",
   "execution_count": 1,
   "metadata": {
    "collapsed": true
   },
   "outputs": [],
   "source": [
    "s = [('n02123045', 'tabby', 0.17211895), ('n02124075', 'Egyptian_cat', 0.12902232), ('n02123159', 'tiger_cat', 0.056662321), ('n02971356', 'carton', 0.037506979), ('n04553703', 'washbasin', 0.019622352), ('n03958227', 'plastic_bag', 0.014390343), ('n04033995', 'quilt', 0.013959308), ('n02808304', 'bath_towel', 0.011398037), ('n03887697', 'paper_towel', 0.010609802), ('n02127052', 'lynx', 0.0089298515)]"
   ]
  },
  {
   "cell_type": "code",
   "execution_count": 2,
   "metadata": {
    "collapsed": false
   },
   "outputs": [
    {
     "data": {
      "text/plain": [
       "[('n02123045', 'tabby', 0.17211895),\n",
       " ('n02124075', 'Egyptian_cat', 0.12902232),\n",
       " ('n02123159', 'tiger_cat', 0.056662321),\n",
       " ('n02971356', 'carton', 0.037506979),\n",
       " ('n04553703', 'washbasin', 0.019622352),\n",
       " ('n03958227', 'plastic_bag', 0.014390343),\n",
       " ('n04033995', 'quilt', 0.013959308),\n",
       " ('n02808304', 'bath_towel', 0.011398037),\n",
       " ('n03887697', 'paper_towel', 0.010609802),\n",
       " ('n02127052', 'lynx', 0.0089298515)]"
      ]
     },
     "execution_count": 2,
     "metadata": {},
     "output_type": "execute_result"
    }
   ],
   "source": [
    "s"
   ]
  },
  {
   "cell_type": "code",
   "execution_count": 5,
   "metadata": {
    "collapsed": false
   },
   "outputs": [
    {
     "data": {
      "text/plain": [
       "['n02123045',\n",
       " 'n02124075',\n",
       " 'n02123159',\n",
       " 'n02971356',\n",
       " 'n04553703',\n",
       " 'n03958227',\n",
       " 'n04033995',\n",
       " 'n02808304',\n",
       " 'n03887697',\n",
       " 'n02127052']"
      ]
     },
     "execution_count": 5,
     "metadata": {},
     "output_type": "execute_result"
    }
   ],
   "source": [
    "[ x[0] for x in s ]"
   ]
  },
  {
   "cell_type": "code",
   "execution_count": null,
   "metadata": {
    "collapsed": true
   },
   "outputs": [],
   "source": []
  }
 ],
 "metadata": {
  "kernelspec": {
   "display_name": "Python 3",
   "language": "python",
   "name": "python3"
  },
  "language_info": {
   "codemirror_mode": {
    "name": "ipython",
    "version": 3
   },
   "file_extension": ".py",
   "mimetype": "text/x-python",
   "name": "python",
   "nbconvert_exporter": "python",
   "pygments_lexer": "ipython3",
   "version": "3.5.4"
  }
 },
 "nbformat": 4,
 "nbformat_minor": 1
}
