{
 "cells": [
  {
   "cell_type": "code",
   "execution_count": 21,
   "metadata": {
    "collapsed": true
   },
   "outputs": [],
   "source": [
    "data_outlier = {'cat.1100.jpg': \"[('n02123394', 'Persian_cat', 0.96860129), ('n02328150', 'Angora', 0.0020070411), ('n04070727', 'refrigerator', 0.0017690465), ('n02112018', 'Pomeranian', 0.001462814), ('n02086079', 'Pekinese', 0.001276298), ('n02112350', 'keeshond', 0.0012242614), ('n02123045', 'tabby', 0.00086392253), ('n02112137', 'chow', 0.00079084677), ('n03207941', 'dishwasher', 0.00078570476), ('n03642806', 'laptop', 0.00051517948)]\",\n",
    " 'dog.12498.jpg': \"[('n02104365', 'schipperke', 0.56560874), ('n02105412', 'kelpie', 0.10388894), ('n02099712', 'Labrador_retriever', 0.082297109), ('n02093256', 'Staffordshire_bullterrier', 0.030477969), ('n02106550', 'Rottweiler', 0.016108252), ('n02109047', 'Great_Dane', 0.0090055596), ('n02107908', 'Appenzeller', 0.008469821), ('n02112706', 'Brabancon_griffon', 0.0061603575), ('n02105056', 'groenendael', 0.0053999131), ('n02107574', 'Greater_Swiss_Mountain_dog', 0.0052599548)]\",\n",
    " 'cat.6431.jpg': \"[('n02123045', 'tabby', 0.52427012), ('n02123159', 'tiger_cat', 0.36164719), ('n02124075', 'Egyptian_cat', 0.091309063), ('n02123394', 'Persian_cat', 0.0010932672), ('n02127052', 'lynx', 0.00081382453), ('n03958227', 'plastic_bag', 0.00054128916), ('n04033995', 'quilt', 0.00037807683), ('n03482405', 'hamper', 0.00028354695), ('n03642806', 'laptop', 0.00023299747), ('n04040759', 'radiator', 0.00022919975)]\",\n",
    " 'dog.5002.jpg': \"[('n02093256', 'Staffordshire_bullterrier', 0.33304816), ('n02109047', 'Great_Dane', 0.14202996), ('n02105412', 'kelpie', 0.091495968), ('n02093428', 'American_Staffordshire_terrier', 0.079682827), ('n02099712', 'Labrador_retriever', 0.043114249), ('n02106550', 'Rottweiler', 0.01273643), ('n02108422', 'bull_mastiff', 0.0094609046), ('n02108915', 'French_bulldog', 0.0089965807), ('n02099267', 'flat-coated_retriever', 0.0087138992), ('n02105162', 'malinois', 0.0051494199)]\"}"
   ]
  },
  {
   "cell_type": "code",
   "execution_count": 22,
   "metadata": {
    "collapsed": false,
    "scrolled": true
   },
   "outputs": [
    {
     "data": {
      "text/plain": [
       "{'cat.1100.jpg': \"[('n02123394', 'Persian_cat', 0.96860129), ('n02328150', 'Angora', 0.0020070411), ('n04070727', 'refrigerator', 0.0017690465), ('n02112018', 'Pomeranian', 0.001462814), ('n02086079', 'Pekinese', 0.001276298), ('n02112350', 'keeshond', 0.0012242614), ('n02123045', 'tabby', 0.00086392253), ('n02112137', 'chow', 0.00079084677), ('n03207941', 'dishwasher', 0.00078570476), ('n03642806', 'laptop', 0.00051517948)]\",\n",
       " 'cat.6431.jpg': \"[('n02123045', 'tabby', 0.52427012), ('n02123159', 'tiger_cat', 0.36164719), ('n02124075', 'Egyptian_cat', 0.091309063), ('n02123394', 'Persian_cat', 0.0010932672), ('n02127052', 'lynx', 0.00081382453), ('n03958227', 'plastic_bag', 0.00054128916), ('n04033995', 'quilt', 0.00037807683), ('n03482405', 'hamper', 0.00028354695), ('n03642806', 'laptop', 0.00023299747), ('n04040759', 'radiator', 0.00022919975)]\",\n",
       " 'dog.12498.jpg': \"[('n02104365', 'schipperke', 0.56560874), ('n02105412', 'kelpie', 0.10388894), ('n02099712', 'Labrador_retriever', 0.082297109), ('n02093256', 'Staffordshire_bullterrier', 0.030477969), ('n02106550', 'Rottweiler', 0.016108252), ('n02109047', 'Great_Dane', 0.0090055596), ('n02107908', 'Appenzeller', 0.008469821), ('n02112706', 'Brabancon_griffon', 0.0061603575), ('n02105056', 'groenendael', 0.0053999131), ('n02107574', 'Greater_Swiss_Mountain_dog', 0.0052599548)]\",\n",
       " 'dog.5002.jpg': \"[('n02093256', 'Staffordshire_bullterrier', 0.33304816), ('n02109047', 'Great_Dane', 0.14202996), ('n02105412', 'kelpie', 0.091495968), ('n02093428', 'American_Staffordshire_terrier', 0.079682827), ('n02099712', 'Labrador_retriever', 0.043114249), ('n02106550', 'Rottweiler', 0.01273643), ('n02108422', 'bull_mastiff', 0.0094609046), ('n02108915', 'French_bulldog', 0.0089965807), ('n02099267', 'flat-coated_retriever', 0.0087138992), ('n02105162', 'malinois', 0.0051494199)]\"}"
      ]
     },
     "execution_count": 22,
     "metadata": {},
     "output_type": "execute_result"
    }
   ],
   "source": [
    "data_outlier"
   ]
  },
  {
   "cell_type": "code",
   "execution_count": 53,
   "metadata": {
    "collapsed": false
   },
   "outputs": [],
   "source": [
    "def xx(pred):\n",
    "    result = []\n",
    "    for key, value in pred.items():\n",
    "        value = eval(value)\n",
    "        pred_list = [ x[0] for x in value ]\n",
    "        \n",
    "        print(pred_list)\n",
    "        pred_list_1 = [ 1 for x in pred_list if x in imageNet_class ]\n",
    "        if sum(pred_list_1) == 0:\n",
    "            result.append(key)\n",
    "        \n",
    "    return result"
   ]
  },
  {
   "cell_type": "code",
   "execution_count": 54,
   "metadata": {
    "collapsed": false,
    "scrolled": true
   },
   "outputs": [
    {
     "name": "stdout",
     "output_type": "stream",
     "text": [
      "['n02104365', 'n02105412', 'n02099712', 'n02093256', 'n02106550', 'n02109047', 'n02107908', 'n02112706', 'n02105056', 'n02107574']\n"
     ]
    },
    {
     "ename": "NameError",
     "evalue": "name 'imageNet_class' is not defined",
     "output_type": "error",
     "traceback": [
      "\u001b[0;31m---------------------------------------------------------------------------\u001b[0m",
      "\u001b[0;31mNameError\u001b[0m                                 Traceback (most recent call last)",
      "\u001b[0;32m<ipython-input-54-7529f480282a>\u001b[0m in \u001b[0;36m<module>\u001b[0;34m()\u001b[0m\n\u001b[0;32m----> 1\u001b[0;31m \u001b[0ma\u001b[0m \u001b[0;34m=\u001b[0m \u001b[0mxx\u001b[0m\u001b[0;34m(\u001b[0m\u001b[0mdata_outlier\u001b[0m\u001b[0;34m)\u001b[0m\u001b[0;34m\u001b[0m\u001b[0m\n\u001b[0m",
      "\u001b[0;32m<ipython-input-53-d8546c8c247d>\u001b[0m in \u001b[0;36mxx\u001b[0;34m(pred)\u001b[0m\n\u001b[1;32m      6\u001b[0m \u001b[0;34m\u001b[0m\u001b[0m\n\u001b[1;32m      7\u001b[0m         \u001b[0mprint\u001b[0m\u001b[0;34m(\u001b[0m\u001b[0mpred_list\u001b[0m\u001b[0;34m)\u001b[0m\u001b[0;34m\u001b[0m\u001b[0m\n\u001b[0;32m----> 8\u001b[0;31m         \u001b[0mpred_list_1\u001b[0m \u001b[0;34m=\u001b[0m \u001b[0;34m[\u001b[0m \u001b[0;36m1\u001b[0m \u001b[0;32mfor\u001b[0m \u001b[0mx\u001b[0m \u001b[0;32min\u001b[0m \u001b[0mpred_list\u001b[0m \u001b[0;32mif\u001b[0m \u001b[0mx\u001b[0m \u001b[0;32min\u001b[0m \u001b[0mimageNet_class\u001b[0m \u001b[0;34m]\u001b[0m\u001b[0;34m\u001b[0m\u001b[0m\n\u001b[0m\u001b[1;32m      9\u001b[0m         \u001b[0;32mif\u001b[0m \u001b[0msum\u001b[0m\u001b[0;34m(\u001b[0m\u001b[0mpred_list_1\u001b[0m\u001b[0;34m)\u001b[0m \u001b[0;34m==\u001b[0m \u001b[0;36m0\u001b[0m\u001b[0;34m:\u001b[0m\u001b[0;34m\u001b[0m\u001b[0m\n\u001b[1;32m     10\u001b[0m             \u001b[0mresult\u001b[0m\u001b[0;34m.\u001b[0m\u001b[0mappend\u001b[0m\u001b[0;34m(\u001b[0m\u001b[0mkey\u001b[0m\u001b[0;34m)\u001b[0m\u001b[0;34m\u001b[0m\u001b[0m\n",
      "\u001b[0;32m<ipython-input-53-d8546c8c247d>\u001b[0m in \u001b[0;36m<listcomp>\u001b[0;34m(.0)\u001b[0m\n\u001b[1;32m      6\u001b[0m \u001b[0;34m\u001b[0m\u001b[0m\n\u001b[1;32m      7\u001b[0m         \u001b[0mprint\u001b[0m\u001b[0;34m(\u001b[0m\u001b[0mpred_list\u001b[0m\u001b[0;34m)\u001b[0m\u001b[0;34m\u001b[0m\u001b[0m\n\u001b[0;32m----> 8\u001b[0;31m         \u001b[0mpred_list_1\u001b[0m \u001b[0;34m=\u001b[0m \u001b[0;34m[\u001b[0m \u001b[0;36m1\u001b[0m \u001b[0;32mfor\u001b[0m \u001b[0mx\u001b[0m \u001b[0;32min\u001b[0m \u001b[0mpred_list\u001b[0m \u001b[0;32mif\u001b[0m \u001b[0mx\u001b[0m \u001b[0;32min\u001b[0m \u001b[0mimageNet_class\u001b[0m \u001b[0;34m]\u001b[0m\u001b[0;34m\u001b[0m\u001b[0m\n\u001b[0m\u001b[1;32m      9\u001b[0m         \u001b[0;32mif\u001b[0m \u001b[0msum\u001b[0m\u001b[0;34m(\u001b[0m\u001b[0mpred_list_1\u001b[0m\u001b[0;34m)\u001b[0m \u001b[0;34m==\u001b[0m \u001b[0;36m0\u001b[0m\u001b[0;34m:\u001b[0m\u001b[0;34m\u001b[0m\u001b[0m\n\u001b[1;32m     10\u001b[0m             \u001b[0mresult\u001b[0m\u001b[0;34m.\u001b[0m\u001b[0mappend\u001b[0m\u001b[0;34m(\u001b[0m\u001b[0mkey\u001b[0m\u001b[0;34m)\u001b[0m\u001b[0;34m\u001b[0m\u001b[0m\n",
      "\u001b[0;31mNameError\u001b[0m: name 'imageNet_class' is not defined"
     ]
    }
   ],
   "source": [
    "a = xx(data_outlier)"
   ]
  },
  {
   "cell_type": "code",
   "execution_count": null,
   "metadata": {
    "collapsed": true
   },
   "outputs": [],
   "source": []
  },
  {
   "cell_type": "code",
   "execution_count": null,
   "metadata": {
    "collapsed": true
   },
   "outputs": [],
   "source": []
  },
  {
   "cell_type": "code",
   "execution_count": null,
   "metadata": {
    "collapsed": true
   },
   "outputs": [],
   "source": []
  },
  {
   "cell_type": "code",
   "execution_count": null,
   "metadata": {
    "collapsed": true
   },
   "outputs": [],
   "source": []
  },
  {
   "cell_type": "code",
   "execution_count": null,
   "metadata": {
    "collapsed": true
   },
   "outputs": [],
   "source": []
  }
 ],
 "metadata": {
  "kernelspec": {
   "display_name": "Python 3",
   "language": "python",
   "name": "python3"
  },
  "language_info": {
   "codemirror_mode": {
    "name": "ipython",
    "version": 3
   },
   "file_extension": ".py",
   "mimetype": "text/x-python",
   "name": "python",
   "nbconvert_exporter": "python",
   "pygments_lexer": "ipython3",
   "version": "3.5.4"
  }
 },
 "nbformat": 4,
 "nbformat_minor": 1
}
