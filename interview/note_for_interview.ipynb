{
 "cells": [
  {
   "cell_type": "markdown",
   "metadata": {
    "collapsed": true
   },
   "source": [
    "## 贝壳找房深度学习\n",
    "\n",
    "- 卷积层和全连接层的区别\n",
    "- L0 L1 L2\n",
    "- 防止过拟合方法\n",
    "- 数据增强方法\n",
    "- python中tuple和list的区别\n",
    "- 复杂度了解吗，二分查找复杂度\n",
    "- 快排最好情况的复杂度\n",
    "- 手撕代码：二分查找\n",
    "- 了解堆和栈\n",
    "- 用栈结构实现O(1)时间复杂度找到栈内的最大元素，如果有很多重复元素时怎么改进\n",
    "- PCA原理\n",
    "- 特征值和特征向量的含义\n",
    "- 机器学习理论+数学基础+数据结构+coding+项目\n",
    "- SGD 中 S(stochastic)代表什么\n",
    "- 监督学习／迁移学习／半监督学习／弱监督学习／非监督学习？\n",
    "- Softmax Loss推一下\n",
    "- CNN的特点以及优势 \n",
    "- 推导 backward\n",
    "- 解释dropout以及实现机制\n",
    "- 深度学习中有什么加快收敛/降低训练难度的方法\n",
    "- 什么造成过拟合，如何防止过拟合"
   ]
  }
 ],
 "metadata": {
  "kernelspec": {
   "display_name": "Python 3",
   "language": "python",
   "name": "python3"
  },
  "language_info": {
   "codemirror_mode": {
    "name": "ipython",
    "version": 3
   },
   "file_extension": ".py",
   "mimetype": "text/x-python",
   "name": "python",
   "nbconvert_exporter": "python",
   "pygments_lexer": "ipython3",
   "version": "3.5.4"
  }
 },
 "nbformat": 4,
 "nbformat_minor": 1
}
